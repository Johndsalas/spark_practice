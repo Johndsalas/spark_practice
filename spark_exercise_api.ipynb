{
 "cells": [
  {
   "cell_type": "markdown",
   "id": "persistent-packaging",
   "metadata": {},
   "source": [
    "# Spark Exercise API"
   ]
  },
  {
   "cell_type": "code",
   "execution_count": 1,
   "id": "stretch-tutorial",
   "metadata": {},
   "outputs": [],
   "source": [
    "import pyspark\n",
    "import pandas as pd\n",
    "from pydataset import data\n",
    "from pyspark.sql.functions import concat, avg, count, mean, col, lit, expr\n",
    "from pyspark.sql.functions import sum as ssum\n",
    "from pyspark.sql.functions import min as smin\n",
    "from pyspark.sql.functions import max as smax"
   ]
  },
  {
   "cell_type": "markdown",
   "id": "differential-smoke",
   "metadata": {},
   "source": [
    "### Create a spark data frame that contains your favorite programming languages\n",
    "\n",
    "* The name of the column should be language\n",
    "* View the schema of the dataframe\n",
    "* Output the shape of the dataframe\n",
    "* Show the first 5 records in the dataframe"
   ]
  },
  {
   "cell_type": "code",
   "execution_count": 2,
   "id": "brazilian-ultimate",
   "metadata": {},
   "outputs": [],
   "source": [
    "spark = pyspark.sql.SparkSession.builder.getOrCreate()"
   ]
  },
  {
   "cell_type": "code",
   "execution_count": 3,
   "id": "international-harrison",
   "metadata": {},
   "outputs": [],
   "source": [
    "pandas_dataframe = pd.DataFrame({'language': ['Python', 'Ruby', 'C++', 'Java', 'RockStar']})\n",
    "df = spark.createDataFrame(pandas_dataframe)"
   ]
  },
  {
   "cell_type": "code",
   "execution_count": 4,
   "id": "electric-divide",
   "metadata": {},
   "outputs": [
    {
     "name": "stdout",
     "output_type": "stream",
     "text": [
      "5 rows 1 columns\n"
     ]
    }
   ],
   "source": [
    "print(df.count(), \"rows\", len(df.columns), \"columns\")"
   ]
  },
  {
   "cell_type": "code",
   "execution_count": 5,
   "id": "worth-dinner",
   "metadata": {},
   "outputs": [
    {
     "name": "stdout",
     "output_type": "stream",
     "text": [
      "+--------+\n",
      "|language|\n",
      "+--------+\n",
      "|  Python|\n",
      "|    Ruby|\n",
      "|     C++|\n",
      "|    Java|\n",
      "|RockStar|\n",
      "+--------+\n",
      "\n"
     ]
    }
   ],
   "source": [
    "df.show()"
   ]
  },
  {
   "cell_type": "markdown",
   "id": "direct-syndication",
   "metadata": {},
   "source": [
    "### Load the mpg dataset as a spark dataframe.\n",
    "\n",
    "* Create 1 column of output that contains a message like the one below for each vehicle\n",
    "\n",
    "* The 1999 audi a4 has a 4 cylinder engine. \n",
    "\n",
    "* Transform the trans column so that it only contains either manual or auto."
   ]
  },
  {
   "cell_type": "code",
   "execution_count": 6,
   "id": "artificial-founder",
   "metadata": {},
   "outputs": [
    {
     "name": "stdout",
     "output_type": "stream",
     "text": [
      "+------------+-----+-----+----+---+----------+---+---+---+---+-------+\n",
      "|manufacturer|model|displ|year|cyl|     trans|drv|cty|hwy| fl|  class|\n",
      "+------------+-----+-----+----+---+----------+---+---+---+---+-------+\n",
      "|        audi|   a4|  1.8|1999|  4|  auto(l5)|  f| 18| 29|  p|compact|\n",
      "|        audi|   a4|  1.8|1999|  4|manual(m5)|  f| 21| 29|  p|compact|\n",
      "|        audi|   a4|  2.0|2008|  4|manual(m6)|  f| 20| 31|  p|compact|\n",
      "|        audi|   a4|  2.0|2008|  4|  auto(av)|  f| 21| 30|  p|compact|\n",
      "|        audi|   a4|  2.8|1999|  6|  auto(l5)|  f| 16| 26|  p|compact|\n",
      "+------------+-----+-----+----+---+----------+---+---+---+---+-------+\n",
      "only showing top 5 rows\n",
      "\n"
     ]
    }
   ],
   "source": [
    "mpg = spark.createDataFrame(data(\"mpg\"))\n",
    "mpg.show(5)"
   ]
  },
  {
   "cell_type": "code",
   "execution_count": 7,
   "id": "velvet-decision",
   "metadata": {},
   "outputs": [
    {
     "name": "stdout",
     "output_type": "stream",
     "text": [
      "+--------------------------------------+\n",
      "|description                           |\n",
      "+--------------------------------------+\n",
      "|The 1999 audi has a 4 cylinder engine.|\n",
      "|The 1999 audi has a 4 cylinder engine.|\n",
      "|The 2008 audi has a 4 cylinder engine.|\n",
      "|The 2008 audi has a 4 cylinder engine.|\n",
      "|The 1999 audi has a 6 cylinder engine.|\n",
      "|The 1999 audi has a 6 cylinder engine.|\n",
      "|The 2008 audi has a 6 cylinder engine.|\n",
      "|The 1999 audi has a 4 cylinder engine.|\n",
      "|The 1999 audi has a 4 cylinder engine.|\n",
      "|The 2008 audi has a 4 cylinder engine.|\n",
      "+--------------------------------------+\n",
      "only showing top 10 rows\n",
      "\n"
     ]
    }
   ],
   "source": [
    "mpg.select(concat(lit('The '), mpg.year, lit(' '), mpg.manufacturer, lit(' has a '), mpg.cyl, lit(' cylinder engine.')).alias('description')).show(10, False)"
   ]
  },
  {
   "cell_type": "markdown",
   "id": "variable-klein",
   "metadata": {},
   "source": [
    "### Load the tips dataset as a spark dataframe.\n",
    "\n",
    "* What percentage of observations are smokers?\n",
    "* Create a column that contains the tip percentage\n",
    "* Calculate the average tip percentage for each combination of sex and smoker."
   ]
  },
  {
   "cell_type": "code",
   "execution_count": 8,
   "id": "detailed-examination",
   "metadata": {},
   "outputs": [
    {
     "name": "stdout",
     "output_type": "stream",
     "text": [
      "+----------+----+------+------+---+------+----+\n",
      "|total_bill| tip|   sex|smoker|day|  time|size|\n",
      "+----------+----+------+------+---+------+----+\n",
      "|     16.99|1.01|Female|    No|Sun|Dinner|   2|\n",
      "|     10.34|1.66|  Male|    No|Sun|Dinner|   3|\n",
      "|     21.01| 3.5|  Male|    No|Sun|Dinner|   3|\n",
      "|     23.68|3.31|  Male|    No|Sun|Dinner|   2|\n",
      "|     24.59|3.61|Female|    No|Sun|Dinner|   4|\n",
      "+----------+----+------+------+---+------+----+\n",
      "only showing top 5 rows\n",
      "\n"
     ]
    }
   ],
   "source": [
    "tips = spark.createDataFrame(data(\"tips\"))\n",
    "tips.show(5)"
   ]
  },
  {
   "cell_type": "code",
   "execution_count": 25,
   "id": "sought-antarctica",
   "metadata": {},
   "outputs": [
    {
     "data": {
      "text/plain": [
       "0.38114754098360654"
      ]
     },
     "execution_count": 25,
     "metadata": {},
     "output_type": "execute_result"
    }
   ],
   "source": [
    "tips.filter(tips.smoker=='Yes').count() / tips.count()"
   ]
  },
  {
   "cell_type": "code",
   "execution_count": 29,
   "id": "established-simon",
   "metadata": {},
   "outputs": [
    {
     "name": "stdout",
     "output_type": "stream",
     "text": [
      "+----------+----+------+------+---+------+----+-----------+\n",
      "|total_bill| tip|   sex|smoker|day|  time|size|tip_percent|\n",
      "+----------+----+------+------+---+------+----+-----------+\n",
      "|     16.99|1.01|Female|    No|Sun|Dinner|   2|        6.0|\n",
      "|     10.34|1.66|  Male|    No|Sun|Dinner|   3|       16.0|\n",
      "|     21.01| 3.5|  Male|    No|Sun|Dinner|   3|       17.0|\n",
      "|     23.68|3.31|  Male|    No|Sun|Dinner|   2|       14.0|\n",
      "|     24.59|3.61|Female|    No|Sun|Dinner|   4|       15.0|\n",
      "|     25.29|4.71|  Male|    No|Sun|Dinner|   4|       19.0|\n",
      "|      8.77| 2.0|  Male|    No|Sun|Dinner|   2|       23.0|\n",
      "|     26.88|3.12|  Male|    No|Sun|Dinner|   4|       12.0|\n",
      "|     15.04|1.96|  Male|    No|Sun|Dinner|   2|       13.0|\n",
      "|     14.78|3.23|  Male|    No|Sun|Dinner|   2|       22.0|\n",
      "+----------+----+------+------+---+------+----+-----------+\n",
      "only showing top 10 rows\n",
      "\n"
     ]
    }
   ],
   "source": [
    "tips.withColumn('tip_percent', expr('round((tip / total_bill) * 100)')).show(10)"
   ]
  },
  {
   "cell_type": "code",
   "execution_count": 31,
   "id": "rental-slope",
   "metadata": {},
   "outputs": [
    {
     "name": "stdout",
     "output_type": "stream",
     "text": [
      "+------+------+------------------+\n",
      "|   sex|smoker|  avg(tip_percent)|\n",
      "+------+------+------------------+\n",
      "|  Male|    No|16.103092783505154|\n",
      "|  Male|   Yes|15.283333333333333|\n",
      "|Female|    No|15.685185185185185|\n",
      "|Female|   Yes|18.242424242424242|\n",
      "+------+------+------------------+\n",
      "\n"
     ]
    }
   ],
   "source": [
    "(tips.withColumn('tip_percent', expr('round((tip / total_bill) * 100)'))\n",
    "    .groupby('sex','smoker').agg(avg('tip_percent'))).show(10)"
   ]
  },
  {
   "cell_type": "markdown",
   "id": "overhead-possession",
   "metadata": {},
   "source": [
    "### Use the seattle weather dataset referenced in the lesson to answer the questions below.\n",
    "\n",
    "* Convert the temperatures to fahrenheit.\n",
    "* Which month has the most rain, on average?\n",
    "* Which year was the windiest?\n",
    "* What is the most frequent type of weather in January?\n",
    "* What is the average high and low temperature on sunny days in July in 2013 and 2014?\n",
    "* What percentage of days were rainy in q3 of 2015?\n",
    "* For each year, find what percentage of days it rained (had non-zero precipitation)."
   ]
  },
  {
   "cell_type": "code",
   "execution_count": 32,
   "id": "valid-prophet",
   "metadata": {
    "scrolled": true
   },
   "outputs": [
    {
     "name": "stdout",
     "output_type": "stream",
     "text": [
      "+----------+-------------+--------+--------+----+-------+\n",
      "|      date|precipitation|temp_max|temp_min|wind|weather|\n",
      "+----------+-------------+--------+--------+----+-------+\n",
      "|2012-01-01|          0.0|    12.8|     5.0| 4.7|drizzle|\n",
      "|2012-01-02|         10.9|    10.6|     2.8| 4.5|   rain|\n",
      "|2012-01-03|          0.8|    11.7|     7.2| 2.3|   rain|\n",
      "|2012-01-04|         20.3|    12.2|     5.6| 4.7|   rain|\n",
      "|2012-01-05|          1.3|     8.9|     2.8| 6.1|   rain|\n",
      "|2012-01-06|          2.5|     4.4|     2.2| 2.2|   rain|\n",
      "+----------+-------------+--------+--------+----+-------+\n",
      "only showing top 6 rows\n",
      "\n"
     ]
    }
   ],
   "source": [
    "from vega_datasets import data\n",
    "\n",
    "df = data.seattle_weather().assign(date=lambda df: df.date.astype(str))\n",
    "df = spark.createDataFrame(df)\n",
    "df.show(6)"
   ]
  },
  {
   "cell_type": "code",
   "execution_count": 41,
   "id": "numerical-prayer",
   "metadata": {},
   "outputs": [
    {
     "name": "stdout",
     "output_type": "stream",
     "text": [
      "+----------+-------------+--------+--------+----+-------+\n",
      "|      date|precipitation|temp_max|temp_min|wind|weather|\n",
      "+----------+-------------+--------+--------+----+-------+\n",
      "|2012-01-01|          0.0|   55.04|    41.0| 4.7|drizzle|\n",
      "|2012-01-02|         10.9|   51.08|   37.04| 4.5|   rain|\n",
      "|2012-01-03|          0.8|   53.06|   44.96| 2.3|   rain|\n",
      "|2012-01-04|         20.3|   53.96|   42.08| 4.7|   rain|\n",
      "|2012-01-05|          1.3|   48.02|   37.04| 6.1|   rain|\n",
      "|2012-01-06|          2.5|   39.92|   35.96| 2.2|   rain|\n",
      "|2012-01-07|          0.0|   44.96|   37.04| 2.3|   rain|\n",
      "|2012-01-08|          0.0|    50.0|   37.04| 2.0|    sun|\n",
      "|2012-01-09|          4.3|   48.92|    41.0| 3.4|   rain|\n",
      "|2012-01-10|          1.0|   42.98|   33.08| 3.4|   rain|\n",
      "+----------+-------------+--------+--------+----+-------+\n",
      "only showing top 10 rows\n",
      "\n"
     ]
    }
   ],
   "source": [
    "(df.withColumn('temp_max', expr('round((temp_max * 9/5) + 32,2)'))\n",
    "   .withColumn('temp_min', expr('round((temp_min * 9/5) + 32,2)'))\n",
    "   .show(10))"
   ]
  },
  {
   "cell_type": "code",
   "execution_count": 56,
   "id": "administrative-humanitarian",
   "metadata": {},
   "outputs": [
    {
     "name": "stdout",
     "output_type": "stream",
     "text": [
      "+-----+-----------------+\n",
      "|month|ave_precipitation|\n",
      "+-----+-----------------+\n",
      "|    1|              4.0|\n",
      "|    2|              4.0|\n",
      "|    3|              5.0|\n",
      "|    4|              3.0|\n",
      "|    5|              2.0|\n",
      "|    6|              1.0|\n",
      "|    7|              0.0|\n",
      "|    8|              1.0|\n",
      "|    9|              2.0|\n",
      "|   10|              4.0|\n",
      "|   11|              5.0|\n",
      "|   12|              5.0|\n",
      "+-----+-----------------+\n",
      "\n"
     ]
    }
   ],
   "source": [
    "from pyspark.sql.functions import month, year, quarter\n",
    "\n",
    "(df.withColumn(\"month\", month(\"date\"))\n",
    "   .groupby(\"month\").agg(avg(\"precipitation\").alias('ave_precipitation'))\n",
    "   .withColumn('ave_precipitation', expr('round(ave_precipitation)'))\n",
    "   .sort(\"month\")\n",
    "   .show()\n",
    "\n",
    ")"
   ]
  },
  {
   "cell_type": "code",
   "execution_count": 58,
   "id": "binding-girlfriend",
   "metadata": {},
   "outputs": [
    {
     "name": "stdout",
     "output_type": "stream",
     "text": [
      "+----+------------------+\n",
      "|year|wind_precipitation|\n",
      "+----+------------------+\n",
      "|   1|               3.0|\n",
      "|   2|               4.0|\n",
      "|   3|               4.0|\n",
      "|   4|               4.0|\n",
      "|   5|               3.0|\n",
      "|   6|               3.0|\n",
      "|   7|               3.0|\n",
      "|   8|               3.0|\n",
      "|   9|               3.0|\n",
      "|  10|               3.0|\n",
      "|  11|               3.0|\n",
      "|  12|               4.0|\n",
      "+----+------------------+\n",
      "\n"
     ]
    }
   ],
   "source": [
    "(df.withColumn(\"year\", month(\"date\"))\n",
    "   .groupby(\"year\").agg(avg(\"wind\").alias('wind_precipitation'))\n",
    "   .withColumn('wind_precipitation', expr('round(wind_precipitation)'))\n",
    "   .sort(\"year\")\n",
    "   .show()\n",
    ")"
   ]
  },
  {
   "cell_type": "code",
   "execution_count": 70,
   "id": "acoustic-chuck",
   "metadata": {},
   "outputs": [
    {
     "name": "stdout",
     "output_type": "stream",
     "text": [
      "+-------+------------------------+\n",
      "|weather|Weather Count in January|\n",
      "+-------+------------------------+\n",
      "|    fog|                      38|\n",
      "|drizzle|                      10|\n",
      "|   rain|                      35|\n",
      "|    sun|                      33|\n",
      "|   snow|                       8|\n",
      "+-------+------------------------+\n",
      "\n"
     ]
    }
   ],
   "source": [
    "df.where(month('date') == 1).groupby('weather').agg(count('weather').alias('Weather Count in January')).show()"
   ]
  },
  {
   "cell_type": "code",
   "execution_count": null,
   "id": "sealed-dublin",
   "metadata": {},
   "outputs": [],
   "source": [
    "What is the average high and low temperature on sunny days in July in 2013 and 2014?"
   ]
  }
 ],
 "metadata": {
  "kernelspec": {
   "display_name": "Python 3",
   "language": "python",
   "name": "python3"
  },
  "language_info": {
   "codemirror_mode": {
    "name": "ipython",
    "version": 3
   },
   "file_extension": ".py",
   "mimetype": "text/x-python",
   "name": "python",
   "nbconvert_exporter": "python",
   "pygments_lexer": "ipython3",
   "version": "3.7.4"
  }
 },
 "nbformat": 4,
 "nbformat_minor": 5
}
