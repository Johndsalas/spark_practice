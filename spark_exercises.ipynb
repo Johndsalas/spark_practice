{
 "cells": [
  {
   "cell_type": "markdown",
   "id": "independent-correspondence",
   "metadata": {},
   "source": [
    "\n",
    "Load the mpg dataset as a spark dataframe.\n",
    "\n",
    "Create 1 column of output that contains a message like the one below:\n",
    "\n",
    "\n",
    "The 1999 audi a4 has a 4 cylinder engine.\n",
    "For each vehicle.\n",
    "\n",
    "Transform the trans column so that it only contains either manual or auto.\n",
    "\n",
    "Load the tips dataset as a spark dataframe.\n",
    "\n",
    "What percentage of observations are smokers?\n",
    "Create a column that contains the tip percentage\n",
    "Calculate the average tip percentage for each combination of sex and smoker.\n",
    "Use the seattle weather dataset referenced in the lesson to answer the questions below.\n",
    "\n",
    "Convert the temperatures to fahrenheit.\n",
    "Which month has the most rain, on average?\n",
    "Which year was the windiest?\n",
    "What is the most frequent type of weather in January?\n",
    "What is the average high and low temperature on sunny days in July in 2013 and 2014?\n",
    "What percentage of days were rainy in q3 of 2015?\n",
    "For each year, find what percentage of days it rained (had non-zero precipitation)."
   ]
  },
  {
   "cell_type": "code",
   "execution_count": 4,
   "id": "inappropriate-moses",
   "metadata": {},
   "outputs": [],
   "source": [
    "import pyspark\n",
    "import pandas as pd"
   ]
  },
  {
   "cell_type": "markdown",
   "id": "placed-favor",
   "metadata": {},
   "source": [
    "### Create a spark data frame that contains your favorite programming languages\n",
    "\n",
    "* The name of the column should be language\n",
    "* View the schema of the dataframe\n",
    "* Output the shape of the dataframe\n",
    "* Show the first 5 records in the dataframe"
   ]
  },
  {
   "cell_type": "code",
   "execution_count": 5,
   "id": "impressed-explorer",
   "metadata": {},
   "outputs": [],
   "source": [
    "spark = pyspark.sql.SparkSession.builder.getOrCreate()"
   ]
  },
  {
   "cell_type": "code",
   "execution_count": 10,
   "id": "unable-engagement",
   "metadata": {},
   "outputs": [],
   "source": [
    "pandas_dataframe = pd.DataFrame({'language': ['Python', 'Ruby', 'C++', 'Java', 'RockStar']})\n",
    "df = spark.createDataFrame(pandas_dataframe)"
   ]
  },
  {
   "cell_type": "code",
   "execution_count": null,
   "id": "bridal-caribbean",
   "metadata": {},
   "outputs": [],
   "source": []
  }
 ],
 "metadata": {
  "kernelspec": {
   "display_name": "Python 3",
   "language": "python",
   "name": "python3"
  },
  "language_info": {
   "codemirror_mode": {
    "name": "ipython",
    "version": 3
   },
   "file_extension": ".py",
   "mimetype": "text/x-python",
   "name": "python",
   "nbconvert_exporter": "python",
   "pygments_lexer": "ipython3",
   "version": "3.7.4"
  }
 },
 "nbformat": 4,
 "nbformat_minor": 5
}
