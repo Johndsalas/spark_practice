{
 "cells": [
  {
   "cell_type": "markdown",
   "id": "tight-assault",
   "metadata": {},
   "source": [
    "### Read the case, department, and source data into their own spark dataframes."
   ]
  },
  {
   "cell_type": "code",
   "execution_count": 1,
   "id": "conditional-somerset",
   "metadata": {},
   "outputs": [],
   "source": [
    "# import spark session\n",
    "from pyspark.sql import SparkSession\n",
    "\n",
    "# import spark functions\n",
    "import pyspark.sql.functions as f\n",
    "\n",
    "# import spark structure\n",
    "from pyspark.sql.types import StructType, StructField, StringType"
   ]
  },
  {
   "cell_type": "code",
   "execution_count": 2,
   "id": "thick-knife",
   "metadata": {},
   "outputs": [],
   "source": [
    "# create spark session\n",
    "spark = SparkSession.builder.getOrCreate()"
   ]
  },
  {
   "cell_type": "code",
   "execution_count": 3,
   "id": "compound-reason",
   "metadata": {},
   "outputs": [],
   "source": [
    "# read in data frames\n",
    "source = spark.read.csv(\"source.csv\", sep=\",\", header=True, inferSchema=True)\n",
    "dept = spark.read.csv(\"dept.csv\", sep=\",\", header=True, inferSchema=True)\n",
    "case = spark.read.csv(\"case.csv\", sep=\",\", header=True, inferSchema=True)"
   ]
  },
  {
   "cell_type": "code",
   "execution_count": 4,
   "id": "simplified-weapon",
   "metadata": {},
   "outputs": [
    {
     "name": "stdout",
     "output_type": "stream",
     "text": [
      "+---------+-------------------+\n",
      "|source_id|    source_username|\n",
      "+---------+-------------------+\n",
      "|   100137|   Merlene Blodgett|\n",
      "|   103582|        Carmen Cura|\n",
      "|   106463|    Richard Sanchez|\n",
      "|   119403|     Betty De Hoyos|\n",
      "|   119555|     Socorro Quiara|\n",
      "|   119868|Michelle San Miguel|\n",
      "|   120752|     Eva T. Kleiber|\n",
      "|   124405|          Lori Lara|\n",
      "|   132408|      Leonard Silva|\n",
      "|   135723|       Amy Cardenas|\n",
      "+---------+-------------------+\n",
      "only showing top 10 rows\n",
      "\n"
     ]
    }
   ],
   "source": [
    "source.show(10)"
   ]
  },
  {
   "cell_type": "code",
   "execution_count": 5,
   "id": "cellular-laser",
   "metadata": {},
   "outputs": [
    {
     "name": "stdout",
     "output_type": "stream",
     "text": [
      "+--------------------+--------------------+----------------------+-------------------+\n",
      "|       dept_division|           dept_name|standardized_dept_name|dept_subject_to_SLA|\n",
      "+--------------------+--------------------+----------------------+-------------------+\n",
      "|     311 Call Center|    Customer Service|      Customer Service|                YES|\n",
      "|               Brush|Solid Waste Manag...|           Solid Waste|                YES|\n",
      "|     Clean and Green|Parks and Recreation|    Parks & Recreation|                YES|\n",
      "|Clean and Green N...|Parks and Recreation|    Parks & Recreation|                YES|\n",
      "|    Code Enforcement|Code Enforcement ...|  DSD/Code Enforcement|                YES|\n",
      "|Code Enforcement ...|Code Enforcement ...|  DSD/Code Enforcement|                YES|\n",
      "|Code Enforcement ...|                null|  DSD/Code Enforcement|                YES|\n",
      "|   Dangerous Premise|Code Enforcement ...|  DSD/Code Enforcement|                YES|\n",
      "|Dangerous Premise...|Code Enforcement ...|  DSD/Code Enforcement|                YES|\n",
      "|Director's Office...|Trans & Cap Impro...|  Trans & Cap Impro...|                YES|\n",
      "+--------------------+--------------------+----------------------+-------------------+\n",
      "only showing top 10 rows\n",
      "\n"
     ]
    }
   ],
   "source": [
    "dept.show(10)"
   ]
  },
  {
   "cell_type": "code",
   "execution_count": 18,
   "id": "continent-split",
   "metadata": {},
   "outputs": [
    {
     "name": "stdout",
     "output_type": "stream",
     "text": [
      "-RECORD 0------------------------------------\n",
      " case_id              | 1014127332           \n",
      " case_opened_date     | 2018-01-01 00:42:00  \n",
      " case_closed_date     | 2018-01-01 12:29:00  \n",
      " SLA_due_date         | 2020-09-26 00:42:00  \n",
      " case_late            | NO                   \n",
      " num_days_late        | -998.5087616000001   \n",
      " case_closed          | YES                  \n",
      " dept_division        | Field Operations     \n",
      " service_request_type | Stray Animal         \n",
      " SLA_days             | 999.0                \n",
      " case_status          | Closed               \n",
      " source_id            | svcCRMLS             \n",
      " request_address      | 2315  EL PASO ST,... \n",
      " council_district     | 5                    \n",
      "-RECORD 1------------------------------------\n",
      " case_id              | 1014127333           \n",
      " case_opened_date     | 2018-01-01 00:46:00  \n",
      " case_closed_date     | 2018-01-03 08:11:00  \n",
      " SLA_due_date         | 2018-01-05 08:30:00  \n",
      " case_late            | NO                   \n",
      " num_days_late        | -2.0126041669999997  \n",
      " case_closed          | YES                  \n",
      " dept_division        | Storm Water          \n",
      " service_request_type | Removal Of Obstru... \n",
      " SLA_days             | 4.322222222          \n",
      " case_status          | Closed               \n",
      " source_id            | svcCRMSS             \n",
      " request_address      | 2215  GOLIAD RD, ... \n",
      " council_district     | 3                    \n",
      "only showing top 2 rows\n",
      "\n"
     ]
    }
   ],
   "source": [
    "case.show(2, vertical = True)"
   ]
  },
  {
   "cell_type": "markdown",
   "id": "cooked-coordinate",
   "metadata": {},
   "source": [
    "### Write the code necessary to store the source data in both csv and json format, store these as sources_csv and sources_json"
   ]
  },
  {
   "cell_type": "code",
   "execution_count": 7,
   "id": "cross-shanghai",
   "metadata": {},
   "outputs": [],
   "source": [
    "source.write.json(\"source_to_json\", mode=\"overwrite\")\n",
    "\n",
    "source.write.csv(\"source_to_csv\", mode=\"overwrite\")"
   ]
  },
  {
   "cell_type": "markdown",
   "id": "unnecessary-policy",
   "metadata": {},
   "source": [
    "Inspect your folder structure. \n",
    "What do you notice?\n",
    "Inspect the data in your dataframes. \n",
    "Are the data types appropriate? "
   ]
  },
  {
   "cell_type": "markdown",
   "id": "willing-filename",
   "metadata": {},
   "source": [
    "### Write the code necessary to cast the values to the appropriate types."
   ]
  },
  {
   "cell_type": "code",
   "execution_count": 8,
   "id": "waiting-virtue",
   "metadata": {},
   "outputs": [
    {
     "name": "stdout",
     "output_type": "stream",
     "text": [
      "+---------+----------------+\n",
      "|source_id| source_username|\n",
      "+---------+----------------+\n",
      "|   100137|Merlene Blodgett|\n",
      "+---------+----------------+\n",
      "only showing top 1 row\n",
      "\n"
     ]
    }
   ],
   "source": [
    "source.show(1)"
   ]
  },
  {
   "cell_type": "code",
   "execution_count": 9,
   "id": "equipped-search",
   "metadata": {},
   "outputs": [],
   "source": [
    "source = (source.withColumn('source_id', f.col('source_id').cast('string'))\n",
    "                .withColumn('source_name', f.col('source_id').cast('string')))"
   ]
  },
  {
   "cell_type": "markdown",
   "id": "amazing-apparatus",
   "metadata": {},
   "source": [
    "### How old is the latest (in terms of days past SLA) currently open issue?"
   ]
  },
  {
   "cell_type": "code",
   "execution_count": 10,
   "id": "level-friendly",
   "metadata": {},
   "outputs": [
    {
     "name": "stdout",
     "output_type": "stream",
     "text": [
      "+-------------+\n",
      "|max_days_late|\n",
      "+-------------+\n",
      "|        520.0|\n",
      "+-------------+\n",
      "\n"
     ]
    }
   ],
   "source": [
    "case.select(f.round(f.max(case.num_days_late)).alias('max_days_late')).show()"
   ]
  },
  {
   "cell_type": "markdown",
   "id": "hired-platform",
   "metadata": {},
   "source": [
    "### How long has the oldest (in terms of days since opened) currently opened issue been open?"
   ]
  },
  {
   "cell_type": "code",
   "execution_count": 11,
   "id": "biblical-medicine",
   "metadata": {},
   "outputs": [
    {
     "name": "stdout",
     "output_type": "stream",
     "text": [
      "+-------------+\n",
      "|max_days_late|\n",
      "+-------------+\n",
      "|        349.0|\n",
      "+-------------+\n",
      "\n"
     ]
    }
   ],
   "source": [
    "(case.filter(case.case_closed != \"YES\")\n",
    "     .select(f.round(f.max(case.num_days_late)).alias('max_days_late'))\n",
    "     .show())"
   ]
  },
  {
   "cell_type": "markdown",
   "id": "orange-scope",
   "metadata": {},
   "source": [
    "### How many Stray Animal cases are there?"
   ]
  },
  {
   "cell_type": "code",
   "execution_count": 12,
   "id": "meaning-joseph",
   "metadata": {},
   "outputs": [
    {
     "name": "stdout",
     "output_type": "stream",
     "text": [
      "-RECORD 0------------------------------------\n",
      " case_id              | 1014127332           \n",
      " case_opened_date     | 1/1/18 0:42          \n",
      " case_closed_date     | 1/1/18 12:29         \n",
      " SLA_due_date         | 9/26/20 0:42         \n",
      " case_late            | NO                   \n",
      " num_days_late        | -998.5087616000001   \n",
      " case_closed          | YES                  \n",
      " dept_division        | Field Operations     \n",
      " service_request_type | Stray Animal         \n",
      " SLA_days             | 999.0                \n",
      " case_status          | Closed               \n",
      " source_id            | svcCRMLS             \n",
      " request_address      | 2315  EL PASO ST,... \n",
      " council_district     | 5                    \n",
      "only showing top 1 row\n",
      "\n"
     ]
    }
   ],
   "source": [
    "case.show(1, vertical = True)"
   ]
  },
  {
   "cell_type": "code",
   "execution_count": 13,
   "id": "assumed-armstrong",
   "metadata": {},
   "outputs": [
    {
     "name": "stdout",
     "output_type": "stream",
     "text": [
      "+------------------+\n",
      "|stray_animal_cases|\n",
      "+------------------+\n",
      "|             26760|\n",
      "+------------------+\n",
      "\n"
     ]
    }
   ],
   "source": [
    "(case.filter(case.service_request_type == \"Stray Animal\")\n",
    " \n",
    " .select(f.round(f.count(case.num_days_late)).alias('stray_animal_cases'))\n",
    "\n",
    ".show())"
   ]
  },
  {
   "cell_type": "markdown",
   "id": "concerned-operator",
   "metadata": {},
   "source": [
    "### How many service requests that are assigned to the Field Operations department (dept_division) are not classified as \"Officer Standby\" request type (service_request_type)?"
   ]
  },
  {
   "cell_type": "code",
   "execution_count": 14,
   "id": "connected-defensive",
   "metadata": {},
   "outputs": [
    {
     "name": "stdout",
     "output_type": "stream",
     "text": [
      "+---------------+\n",
      "|number_of_cases|\n",
      "+---------------+\n",
      "|         113902|\n",
      "+---------------+\n",
      "\n"
     ]
    }
   ],
   "source": [
    "(case.filter(case.dept_division  == \"Field Operations\")\n",
    "     .filter(case.service_request_type  != \"Officer Standby\")\n",
    "     .select(f.round(f.count(case.dept_division)).alias('number_of_cases'))\n",
    "     .show()\n",
    " )"
   ]
  },
  {
   "cell_type": "markdown",
   "id": "unsigned-limitation",
   "metadata": {},
   "source": [
    "### Convert the council_district column to a string column."
   ]
  },
  {
   "cell_type": "code",
   "execution_count": 15,
   "id": "union-leeds",
   "metadata": {},
   "outputs": [
    {
     "name": "stdout",
     "output_type": "stream",
     "text": [
      "-RECORD 0------------------------------------\n",
      " case_id              | 1014127332           \n",
      " case_opened_date     | 1/1/18 0:42          \n",
      " case_closed_date     | 1/1/18 12:29         \n",
      " SLA_due_date         | 9/26/20 0:42         \n",
      " case_late            | NO                   \n",
      " num_days_late        | -998.5087616000001   \n",
      " case_closed          | YES                  \n",
      " dept_division        | Field Operations     \n",
      " service_request_type | Stray Animal         \n",
      " SLA_days             | 999.0                \n",
      " case_status          | Closed               \n",
      " source_id            | svcCRMLS             \n",
      " request_address      | 2315  EL PASO ST,... \n",
      " council_district     | 5                    \n",
      "only showing top 1 row\n",
      "\n"
     ]
    }
   ],
   "source": [
    "case.withColumn('council_district', case.council_district.astype('string')).show(1, vertical = True)"
   ]
  },
  {
   "cell_type": "markdown",
   "id": "finished-technology",
   "metadata": {},
   "source": [
    "### Extract the year from the case_closed_date column."
   ]
  },
  {
   "cell_type": "code",
   "execution_count": 16,
   "id": "optical-space",
   "metadata": {},
   "outputs": [],
   "source": [
    "fmt = \"M/d/yy H:mm\"\n",
    "\n",
    "case = (\n",
    "    case.withColumn(\"case_opened_date\", f.to_timestamp(\"case_opened_date\", fmt))\n",
    "    .withColumn(\"case_closed_date\", f.to_timestamp(\"case_closed_date\", fmt))\n",
    "    .withColumn(\"SLA_due_date\", f.to_timestamp(\"SLA_due_date\", fmt))\n",
    ")"
   ]
  },
  {
   "cell_type": "code",
   "execution_count": 17,
   "id": "considerable-audio",
   "metadata": {},
   "outputs": [
    {
     "name": "stdout",
     "output_type": "stream",
     "text": [
      "-RECORD 0------------------------------------\n",
      " case_id              | 1014127332           \n",
      " case_opened_date     | 2018-01-01 00:42:00  \n",
      " case_closed_date     | 2018-01-01 12:29:00  \n",
      " SLA_due_date         | 2020-09-26 00:42:00  \n",
      " case_late            | NO                   \n",
      " num_days_late        | -998.5087616000001   \n",
      " case_closed          | YES                  \n",
      " dept_division        | Field Operations     \n",
      " service_request_type | Stray Animal         \n",
      " SLA_days             | 999.0                \n",
      " case_status          | Closed               \n",
      " source_id            | svcCRMLS             \n",
      " request_address      | 2315  EL PASO ST,... \n",
      " council_district     | 5                    \n",
      " year_close           | 2018                 \n",
      "-RECORD 1------------------------------------\n",
      " case_id              | 1014127333           \n",
      " case_opened_date     | 2018-01-01 00:46:00  \n",
      " case_closed_date     | 2018-01-03 08:11:00  \n",
      " SLA_due_date         | 2018-01-05 08:30:00  \n",
      " case_late            | NO                   \n",
      " num_days_late        | -2.0126041669999997  \n",
      " case_closed          | YES                  \n",
      " dept_division        | Storm Water          \n",
      " service_request_type | Removal Of Obstru... \n",
      " SLA_days             | 4.322222222          \n",
      " case_status          | Closed               \n",
      " source_id            | svcCRMSS             \n",
      " request_address      | 2215  GOLIAD RD, ... \n",
      " council_district     | 3                    \n",
      " year_close           | 2018                 \n",
      "only showing top 2 rows\n",
      "\n"
     ]
    }
   ],
   "source": [
    "case.withColumn('year_close', f.year(\"case_closed_date\")).show(2, vertical = True)"
   ]
  },
  {
   "cell_type": "markdown",
   "id": "criminal-marina",
   "metadata": {},
   "source": [
    "### Convert num_days_late from days to hours in new columns num_hours_late."
   ]
  },
  {
   "cell_type": "code",
   "execution_count": 21,
   "id": "unavailable-blues",
   "metadata": {},
   "outputs": [
    {
     "name": "stdout",
     "output_type": "stream",
     "text": [
      "-RECORD 0------------------------------------\n",
      " case_id              | 1014127332           \n",
      " case_opened_date     | 2018-01-01 00:42:00  \n",
      " case_closed_date     | 2018-01-01 12:29:00  \n",
      " SLA_due_date         | 2020-09-26 00:42:00  \n",
      " case_late            | NO                   \n",
      " num_days_late        | -998.5087616000001   \n",
      " case_closed          | YES                  \n",
      " dept_division        | Field Operations     \n",
      " service_request_type | Stray Animal         \n",
      " SLA_days             | 999.0                \n",
      " case_status          | Closed               \n",
      " source_id            | svcCRMLS             \n",
      " request_address      | 2315  EL PASO ST,... \n",
      " council_district     | 5                    \n",
      " num_hours_late       | -23964.0             \n",
      "-RECORD 1------------------------------------\n",
      " case_id              | 1014127333           \n",
      " case_opened_date     | 2018-01-01 00:46:00  \n",
      " case_closed_date     | 2018-01-03 08:11:00  \n",
      " SLA_due_date         | 2018-01-05 08:30:00  \n",
      " case_late            | NO                   \n",
      " num_days_late        | -2.0126041669999997  \n",
      " case_closed          | YES                  \n",
      " dept_division        | Storm Water          \n",
      " service_request_type | Removal Of Obstru... \n",
      " SLA_days             | 4.322222222          \n",
      " case_status          | Closed               \n",
      " source_id            | svcCRMSS             \n",
      " request_address      | 2215  GOLIAD RD, ... \n",
      " council_district     | 3                    \n",
      " num_hours_late       | -48.0                \n",
      "only showing top 2 rows\n",
      "\n"
     ]
    }
   ],
   "source": [
    "case.withColumn('num_hours_late', f.expr('round(num_days_late * 24)')).show(2, vertical = True)"
   ]
  },
  {
   "cell_type": "markdown",
   "id": "listed-terror",
   "metadata": {},
   "source": [
    "### Join the case data with the source and department data."
   ]
  },
  {
   "cell_type": "code",
   "execution_count": 22,
   "id": "unknown-shopping",
   "metadata": {},
   "outputs": [
    {
     "name": "stdout",
     "output_type": "stream",
     "text": [
      "+---------+----------------+-----------+\n",
      "|source_id| source_username|source_name|\n",
      "+---------+----------------+-----------+\n",
      "|   100137|Merlene Blodgett|     100137|\n",
      "+---------+----------------+-----------+\n",
      "only showing top 1 row\n",
      "\n"
     ]
    }
   ],
   "source": [
    "source.show(1)"
   ]
  },
  {
   "cell_type": "code",
   "execution_count": 23,
   "id": "subject-authorization",
   "metadata": {},
   "outputs": [
    {
     "name": "stdout",
     "output_type": "stream",
     "text": [
      "+---------------+----------------+----------------------+-------------------+\n",
      "|  dept_division|       dept_name|standardized_dept_name|dept_subject_to_SLA|\n",
      "+---------------+----------------+----------------------+-------------------+\n",
      "|311 Call Center|Customer Service|      Customer Service|                YES|\n",
      "+---------------+----------------+----------------------+-------------------+\n",
      "only showing top 1 row\n",
      "\n"
     ]
    }
   ],
   "source": [
    "dept.show(1)"
   ]
  },
  {
   "cell_type": "code",
   "execution_count": 30,
   "id": "iraqi-gospel",
   "metadata": {},
   "outputs": [
    {
     "name": "stdout",
     "output_type": "stream",
     "text": [
      "-RECORD 0--------------------------------------\n",
      " dept_division          | Waste Collection     \n",
      " source_id              | 136202               \n",
      " source_username        | Michelle Urrutia     \n",
      " source_name            | 136202               \n",
      " case_id                | 1014128056           \n",
      " case_opened_date       | 2018-01-02 08:21:00  \n",
      " case_closed_date       | 2018-01-10 08:39:00  \n",
      " SLA_due_date           | 2018-01-05 08:30:00  \n",
      " case_late              | YES                  \n",
      " num_days_late          | 5.00681713           \n",
      " case_closed            | YES                  \n",
      " service_request_type   | Solid Waste Fees ... \n",
      " SLA_days               | 3.00619213           \n",
      " case_status            | Closed               \n",
      " request_address        | 3214  STONEY FORK... \n",
      " council_district       | 10                   \n",
      " dept_name              | Solid Waste Manag... \n",
      " standardized_dept_name | Solid Waste          \n",
      " dept_subject_to_SLA    | YES                  \n",
      "only showing top 1 row\n",
      "\n"
     ]
    }
   ],
   "source": [
    "(source\n",
    "        .join(case,\"source_id\",\"left\")\n",
    "        .join(dept,\"dept_division\",\"left\").show(1, vertical = True))"
   ]
  },
  {
   "cell_type": "markdown",
   "id": "independent-cisco",
   "metadata": {},
   "source": [
    "### Are there any cases that do not have a request source?"
   ]
  },
  {
   "cell_type": "code",
   "execution_count": 31,
   "id": "underlying-formation",
   "metadata": {},
   "outputs": [],
   "source": [
    "df = (source.join(case,\"source_id\",\"left\")\n",
    "            .join(dept,\"dept_division\",\"left\"))"
   ]
  },
  {
   "cell_type": "code",
   "execution_count": 33,
   "id": "everyday-general",
   "metadata": {},
   "outputs": [
    {
     "name": "stdout",
     "output_type": "stream",
     "text": [
      "(0 rows)\n",
      "\n"
     ]
    }
   ],
   "source": [
    "df.filter('request_address is NULL').show(5,vertical = True)"
   ]
  },
  {
   "cell_type": "markdown",
   "id": "hawaiian-commons",
   "metadata": {},
   "source": [
    "### What are the top 10 service request types in terms of number of requests?"
   ]
  },
  {
   "cell_type": "code",
   "execution_count": 44,
   "id": "becoming-comfort",
   "metadata": {},
   "outputs": [
    {
     "name": "stdout",
     "output_type": "stream",
     "text": [
      "+--------------------+------------------+\n",
      "|service_request_type|number_of_requests|\n",
      "+--------------------+------------------+\n",
      "|           No Pickup|             89210|\n",
      "|Overgrown Yard/Trash|             66403|\n",
      "|        Bandit Signs|             32968|\n",
      "|        Damaged Cart|             31163|\n",
      "|Front Or Side Yar...|             28920|\n",
      "|        Stray Animal|             27361|\n",
      "|Aggressive Animal...|             25492|\n",
      "|Cart Exchange Req...|             22608|\n",
      "|Junk Vehicle On P...|             21649|\n",
      "|     Pot Hole Repair|             20827|\n",
      "+--------------------+------------------+\n",
      "only showing top 10 rows\n",
      "\n"
     ]
    }
   ],
   "source": [
    "(df.groupBy('service_request_type').agg(f.count('source_id').alias('number_of_requests'))\n",
    "  .sort(f.col('number_of_requests').desc()).show(10))"
   ]
  },
  {
   "cell_type": "markdown",
   "id": "coordinate-fashion",
   "metadata": {},
   "source": [
    "### What are the top 10 service request types in terms of average days late?"
   ]
  },
  {
   "cell_type": "code",
   "execution_count": 47,
   "id": "canadian-stations",
   "metadata": {},
   "outputs": [
    {
     "name": "stdout",
     "output_type": "stream",
     "text": [
      "+--------------------+------------------+\n",
      "|service_request_type|     avg_days_late|\n",
      "+--------------------+------------------+\n",
      "|  Zoning: Junk Yards|175.95636210420932|\n",
      "|Labeling for Used...|162.43032902285717|\n",
      "|Record Keeping of...|153.99724039428568|\n",
      "|Signage Requied f...|151.63868055333333|\n",
      "|Storage of Used M...|142.11255641500003|\n",
      "|Zoning: Recycle Yard| 135.9285161247979|\n",
      "|Donation Containe...|131.75610506358709|\n",
      "|License Requied U...|128.79828704142858|\n",
      "|Traffic Signal Gr...|101.79846062200002|\n",
      "|           Complaint| 72.87050230311695|\n",
      "+--------------------+------------------+\n",
      "only showing top 10 rows\n",
      "\n"
     ]
    }
   ],
   "source": [
    "(df.groupBy('service_request_type').agg(f.mean('num_days_late').alias('avg_days_late'))\n",
    "   .sort(f.col('avg_days_late').desc()).show(10))"
   ]
  },
  {
   "cell_type": "markdown",
   "id": "alone-cleaning",
   "metadata": {},
   "source": [
    "### Does number of days late depend on department?"
   ]
  },
  {
   "cell_type": "code",
   "execution_count": 49,
   "id": "celtic-forest",
   "metadata": {},
   "outputs": [
    {
     "name": "stdout",
     "output_type": "stream",
     "text": [
      "+--------------------+-------------------+\n",
      "|           dept_name|      avg_days_late|\n",
      "+--------------------+-------------------+\n",
      "|    Customer Service|  59.73709149630077|\n",
      "|Development Services| 13.433724555869714|\n",
      "|Solid Waste Manag...| -2.200057513672164|\n",
      "|        Metro Health| -4.911766979607004|\n",
      "|Parks and Recreation| -5.251521960055145|\n",
      "|Trans & Cap Impro...|-20.612837354052708|\n",
      "|Code Enforcement ...| -38.70133068329591|\n",
      "|Animal Care Services|-226.51783940550334|\n",
      "+--------------------+-------------------+\n",
      "\n"
     ]
    }
   ],
   "source": [
    "(df.filter('dept_name is not NULL')\n",
    "   .filter('num_days_late is not NULL')\n",
    "   .groupBy('dept_name').agg(f.mean('num_days_late').alias('avg_days_late'))\n",
    "   .sort(f.col('avg_days_late').desc()).show(10))"
   ]
  },
  {
   "cell_type": "markdown",
   "id": "focused-concept",
   "metadata": {},
   "source": [
    "### How do number of days late depend on department and request type?"
   ]
  },
  {
   "cell_type": "code",
   "execution_count": 50,
   "id": "entire-answer",
   "metadata": {},
   "outputs": [
    {
     "name": "stdout",
     "output_type": "stream",
     "text": [
      "+--------------------+--------------------+------------------+\n",
      "|           dept_name|service_request_type|     avg_days_late|\n",
      "+--------------------+--------------------+------------------+\n",
      "|Code Enforcement ...|  Zoning: Junk Yards|175.95636210420943|\n",
      "|Code Enforcement ...|Labeling for Used...|162.43032902285717|\n",
      "|Code Enforcement ...|Record Keeping of...|153.99724039428568|\n",
      "|Code Enforcement ...|Signage Requied f...|151.63868055333333|\n",
      "|Code Enforcement ...|Storage of Used M...|142.11255641500003|\n",
      "|Code Enforcement ...|Donation Containe...|131.75610506358706|\n",
      "|Code Enforcement ...|License Requied U...|128.79828704142858|\n",
      "|Trans & Cap Impro...|Traffic Signal Gr...|101.79846062200002|\n",
      "|    Customer Service|           Complaint|  72.8705023031169|\n",
      "|Code Enforcement ...|             Vendors| 66.54809898507798|\n",
      "+--------------------+--------------------+------------------+\n",
      "only showing top 10 rows\n",
      "\n"
     ]
    }
   ],
   "source": [
    "(df.filter('dept_name is not NULL')\n",
    "   .filter('num_days_late is not NULL')\n",
    "   .filter('service_request_type is not NULL')\n",
    "   .groupBy('dept_name', 'service_request_type').agg(f.mean('num_days_late').alias('avg_days_late'))\n",
    "   .sort(f.col('avg_days_late').desc()).show(10))"
   ]
  },
  {
   "cell_type": "code",
   "execution_count": null,
   "id": "collected-steel",
   "metadata": {},
   "outputs": [],
   "source": [
    "(df.filter('dept_name is not NULL')\n",
    "   .filter('num_days_late is not NULL')\n",
    "   .filter('service_request_type is not NULL')\n",
    "   .groupBy('dept_name', 'service_request_type').agg(f.mean('num_days_late').alias('avg_days_late'))\n",
    "   .sort(f.col('avg_days_late').desc()).show(10))"
   ]
  },
  {
   "cell_type": "code",
   "execution_count": 51,
   "id": "turned-scanning",
   "metadata": {},
   "outputs": [
    {
     "name": "stdout",
     "output_type": "stream",
     "text": [
      "+--------------------+--------------------+-------------------+\n",
      "|           dept_name|service_request_type|      avg_days_late|\n",
      "+--------------------+--------------------+-------------------+\n",
      "|Trans & Cap Impro...|  Engineering Design|      -1399.1272335|\n",
      "|Trans & Cap Impro...|Signal Timing Mod...|-1247.0797799732143|\n",
      "|Animal Care Services|        Stray Animal| -998.8064665118969|\n",
      "|Parks and Recreation|Major Park Improv...| -280.2546235360405|\n",
      "|Trans & Cap Impro...|Sidewalk Cost Sha...|-186.18202610536574|\n",
      "|Code Enforcement ...|Multi Tenant Exte...| -135.7158812804762|\n",
      "|Code Enforcement ...|   CPS Energy Towers|-129.84778717829747|\n",
      "|Code Enforcement ...|CPS Energy Wood P...|-129.30905202721226|\n",
      "|Code Enforcement ...|CPS Energy Metal ...| -129.1791978642777|\n",
      "|Code Enforcement ...|Multi Tenant Inte...| -125.1431856354651|\n",
      "+--------------------+--------------------+-------------------+\n",
      "only showing top 10 rows\n",
      "\n"
     ]
    }
   ],
   "source": [
    "(df.filter('dept_name is not NULL')\n",
    "   .filter('num_days_late is not NULL')\n",
    "   .filter('service_request_type is not NULL')\n",
    "   .groupBy('dept_name', 'service_request_type').agg(f.mean('num_days_late').alias('avg_days_late'))\n",
    "   .sort(f.col('avg_days_late').asc()).show(10))"
   ]
  },
  {
   "cell_type": "code",
   "execution_count": null,
   "id": "aware-latino",
   "metadata": {},
   "outputs": [],
   "source": []
  }
 ],
 "metadata": {
  "kernelspec": {
   "display_name": "Python 3",
   "language": "python",
   "name": "python3"
  },
  "language_info": {
   "codemirror_mode": {
    "name": "ipython",
    "version": 3
   },
   "file_extension": ".py",
   "mimetype": "text/x-python",
   "name": "python",
   "nbconvert_exporter": "python",
   "pygments_lexer": "ipython3",
   "version": "3.7.4"
  }
 },
 "nbformat": 4,
 "nbformat_minor": 5
}
